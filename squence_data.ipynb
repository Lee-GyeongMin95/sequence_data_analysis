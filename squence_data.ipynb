{
 "cells": [
  {
   "cell_type": "code",
   "execution_count": null,
   "metadata": {},
   "outputs": [],
   "source": [
    "if 'google.colab' in str(get_ipython()):\n",
    "    !wget https://s3.amazonaws.com/keras-datasets/jena_climate_2009_2016.csv.zip\n",
    "    !unzip jena_climate_2009_2016.csv.zip\n",
    "else:\n",
    "    try:\n",
    "        import wget, zipfile\n",
    "    except ModuleNotFoundError:\n",
    "        !pip install wget\n",
    "\n",
    "    import wget, zipfile\n",
    "    wget.download('https://s3.amazonaws.com/keras-datasets/jena_climate_2009_2016.csv.zip')\n",
    "    with zipfile.ZipFile('jena_climate_2009_2016.csv.zip', 'r') as zip_ref:\n",
    "        zip_ref.extractall('./')\n",
    "        \n",
    "print(\"안녕하세요\")\n",
    "print('경민이가 수정한다')"
   ]
  }
 ],
 "metadata": {
  "language_info": {
   "name": "python"
  }
 },
 "nbformat": 4,
 "nbformat_minor": 2
}
